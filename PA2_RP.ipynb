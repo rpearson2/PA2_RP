{
 "cells": [
  {
   "cell_type": "markdown",
   "id": "bf7642ba",
   "metadata": {},
   "source": [
    "* Robert Pearson\n",
    "* Assignment 2\n",
    "* Version 1\n",
    "* Fall 2023"
   ]
  },
  {
   "cell_type": "markdown",
   "id": "5594989a",
   "metadata": {},
   "source": [
    "> Task 1: Personal Information\n",
    "A. Create variables to store the following information about yourself:\n",
    "• Your name\n",
    "• Your age\n",
    "• Your height in centimeters\n",
    "• Your favorite color\n",
    "B. Print a message that includes all of the above information, e.g., \"My name is [name], I am [age] years old, I am [height] cm tall, and my favorite color is [color].\""
   ]
  },
  {
   "cell_type": "code",
   "execution_count": 7,
   "id": "ba013ba9",
   "metadata": {},
   "outputs": [
    {
     "name": "stdout",
     "output_type": "stream",
     "text": [
      "My name is Robert Pearson, I am 18 years old, I am 177 cm tall, and my favorite color is green\n"
     ]
    }
   ],
   "source": [
    "name=\"Robert Pearson\"\n",
    "age = 18\n",
    "height = 177\n",
    "favcolor=\"green\"\n",
    "print(f\"My name is {name}, I am {age} years old, I am {height} cm tall, and my favorite color is {favcolor}.\")"
   ]
  },
  {
   "cell_type": "markdown",
   "id": "7a9c23c6",
   "metadata": {},
   "source": [
    ">Task 2: Temperature Conversion\n",
    "A. Create a variable celsius_temp and assign a temperature in Celsius to it.\n",
    "B. Convert the Celsius temperature to Fahrenheit\n",
    "C. Print a message that includes both the Celsius and Fahrenheit temperatures, e.g., \"The\n",
    "temperature is [Celsius]°C, which is [Fahrenheit]°F.\""
   ]
  },
  {
   "cell_type": "code",
   "execution_count": 19,
   "id": "3a198e2d",
   "metadata": {},
   "outputs": [
    {
     "name": "stdout",
     "output_type": "stream",
     "text": [
      "The temperature is 22°C, which is 71.6°F.\n"
     ]
    }
   ],
   "source": [
    "celsius_temp=22\n",
    "fahrenheit_temp=(1.8*celsius_temp) + 32\n",
    "print(f\"The temperature is {celsius_temp}°C, which is {fahrenheit_temp}°F.\")"
   ]
  },
  {
   "cell_type": "markdown",
   "id": "2f47364a",
   "metadata": {},
   "source": [
    ">Task 3: Simple Calculator\n",
    "A. Create variables num1 and num2 and assign them numeric values.\n",
    "B. Perform the following operations and print the results:\n",
    "a. Addition of num1 and num2\n",
    "b. Subtraction of num1 from num2\n",
    "c. Multiplication of num1 and num2\n",
    "d. Division of num1 by num2"
   ]
  },
  {
   "cell_type": "code",
   "execution_count": 17,
   "id": "2df063d0",
   "metadata": {},
   "outputs": [
    {
     "name": "stdout",
     "output_type": "stream",
     "text": [
      "Number one is 63 and number two is 38. \n",
      "Addition: 101 \n",
      "Subtraction: -25 \n",
      "Multiplication: 2394 \n",
      "Division: 1.6578947368421053\n"
     ]
    }
   ],
   "source": [
    "num1=63\n",
    "num2=38\n",
    "addition=num1 + num2\n",
    "subtraction=num2 - num1\n",
    "multiplication=num1 * num2\n",
    "division=num1 / num2\n",
    "print(f\"Number one is {num1} and number two is {num2}. \\nAddition: {addition} \\nSubtraction: {subtraction} \\nMultiplication: {multiplication} \\nDivision: {division}\")"
   ]
  },
  {
   "cell_type": "markdown",
   "id": "71a6278b",
   "metadata": {},
   "source": [
    "> Task 4: String Manipulation\n",
    "A. Create a variable quote and assign a famous quote to it.\n",
    "B. Print the length of the quote.\n",
    "C. Print the quote in uppercase and lowercase.\n",
    "D. Print the quote with any leading/trailing whitespace removed.\n",
    "E. Print the quote split into a list of words.\n"
   ]
  },
  {
   "cell_type": "code",
   "execution_count": 16,
   "id": "352c5522",
   "metadata": {},
   "outputs": [
    {
     "name": "stdout",
     "output_type": "stream",
     "text": [
      "47\n",
      " THE ONLY THING WE HAVE TO FEAR IS FEAR ITSELF.\n",
      " the only thing we have to fear is fear itself.\n",
      "The only thing we have to fear is fear itself.\n",
      "['', 'The', 'only', 'thing', 'we', 'have', 'to', 'fear', 'is', 'fear', 'itself.']\n"
     ]
    }
   ],
   "source": [
    "quote=\" The only thing we have to fear is fear itself.\"\n",
    "print(len(quote))\n",
    "print(quote.upper())\n",
    "print(quote.lower())\n",
    "print(quote.strip())\n",
    "print(quote.split(\" \"))"
   ]
  },
  {
   "cell_type": "markdown",
   "id": "884bfdf5",
   "metadata": {},
   "source": [
    "> Task 5: User Input and Integer Operations\n",
    "> 1. Prompt the user to enter two integer numbers.\n",
    "> 2. Calculate and print the sum, difference, product, and quotient (integer division) of the two\n",
    "number"
   ]
  },
  {
   "cell_type": "code",
   "execution_count": 9,
   "id": "869cf5c5",
   "metadata": {},
   "outputs": [
    {
     "name": "stdout",
     "output_type": "stream",
     "text": [
      "Enter the first integer: 12\n",
      "Enter the second integer: 7\n",
      "The two numbers you entered are 12 and 7.\n",
      "The sum of the two numbers is 19.\n",
      "The difference between the two numbers is 5.\n",
      "The product of the two numbers is 84.\n",
      "The quotient of the two numbers is 0.\n"
     ]
    }
   ],
   "source": [
    "number1=int(input(\"Enter the first integer: \"))\n",
    "number2=int(input(\"Enter the second integer: \"))\n",
    "print(f\"The two numbers you entered are {number1} and {number2}.\")\n",
    "print(f\"The sum of the two numbers is {number1+number2}.\\nThe difference between the two numbers is {number1-number2}.\\nThe product of the two numbers is {number1*number2}.\\nThe quotient of the two numbers is {number2//number1}.\")"
   ]
  },
  {
   "cell_type": "code",
   "execution_count": null,
   "id": "d605631e",
   "metadata": {},
   "outputs": [],
   "source": []
  },
  {
   "cell_type": "code",
   "execution_count": null,
   "id": "74993700",
   "metadata": {},
   "outputs": [],
   "source": []
  }
 ],
 "metadata": {
  "kernelspec": {
   "display_name": "Python 3 (ipykernel)",
   "language": "python",
   "name": "python3"
  },
  "language_info": {
   "codemirror_mode": {
    "name": "ipython",
    "version": 3
   },
   "file_extension": ".py",
   "mimetype": "text/x-python",
   "name": "python",
   "nbconvert_exporter": "python",
   "pygments_lexer": "ipython3",
   "version": "3.11.4"
  }
 },
 "nbformat": 4,
 "nbformat_minor": 5
}
